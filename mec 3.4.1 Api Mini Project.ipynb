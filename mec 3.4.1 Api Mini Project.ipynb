{
 "cells": [
  {
   "cell_type": "markdown",
   "id": "e6d6a7c6-c59b-4977-ad3c-0c7c555f59e7",
   "metadata": {},
   "source": [
    "# Frankfurt Stock Exchange\n",
    "# Basilea Pharmaceutica AG (PK5) Adjusted Stock Prices\n",
    "## ('Carl Zeiss Meditec' is not available)"
   ]
  },
  {
   "cell_type": "markdown",
   "id": "44ddc502-d78d-42af-81e9-f1d6c5232c00",
   "metadata": {},
   "source": [
    "## Questions:\n",
    "These are your tasks for this mini project:\n",
    "\n",
    "1. Collect data from the Franfurt Stock Exchange, for the ticker AFX_X, for the whole year 2017 (keep in mind that the date format is YYYY-MM-DD).\n",
    "2. Convert the returned JSON object into a Python dictionary.\n",
    "3. Calculate what the highest and lowest opening prices were for the stock in this period.\n",
    "4. What was the largest change in any one day (based on High and Low price)?\n",
    "5. What was the largest change between any two days (based on Closing Price)?\n",
    "6. What was the average daily trading volume during this year?\n",
    "7. (Optional) What was the median trading volume during this year. (Note: you may need to implement your own function for calculating the median.)"
   ]
  },
  {
   "cell_type": "code",
   "execution_count": 2,
   "id": "3846f7e7-10d3-48d1-b20a-f051f2aead24",
   "metadata": {},
   "outputs": [],
   "source": [
    "API_KEY = 'h5MYw73-zd38CeS_AxqB'\n",
    "import requests\n",
    "myUrl = ' https://www.quandl.com/api/v3/datasets/XFRA/PK5/data.json?' + '&start_date=2017-01-01&end_date=2017-12-31' + '&api_key=' + API_KEY"
   ]
  },
  {
   "cell_type": "code",
   "execution_count": 3,
   "id": "4b738e50-508f-4887-92a3-729637334dd1",
   "metadata": {},
   "outputs": [
    {
     "data": {
      "text/plain": [
       "' https://www.quandl.com/api/v3/datasets/XFRA/PK5/data.json?&start_date=2017-01-01&end_date=2017-12-31&api_key=h5MYw73-zd38CeS_AxqB'"
      ]
     },
     "execution_count": 3,
     "metadata": {},
     "output_type": "execute_result"
    }
   ],
   "source": [
    "myUrl"
   ]
  },
  {
   "cell_type": "code",
   "execution_count": 4,
   "id": "28641f13-48bd-4edd-bb47-06a1246f5173",
   "metadata": {},
   "outputs": [],
   "source": [
    "myUrlRequests = requests.get(myUrl)\n",
    "urlJson = myUrlRequests.json()"
   ]
  },
  {
   "cell_type": "code",
   "execution_count": 5,
   "id": "ca17c46c-38e4-49cf-a181-527e3c61dfab",
   "metadata": {},
   "outputs": [
    {
     "data": {
      "text/plain": [
       "dict"
      ]
     },
     "execution_count": 5,
     "metadata": {},
     "output_type": "execute_result"
    }
   ],
   "source": [
    "type(urlJson)"
   ]
  },
  {
   "cell_type": "markdown",
   "id": "58443382-99b6-4e7a-8c53-7c6fb4873af7",
   "metadata": {},
   "source": [
    "## Q3 Highest and lowest based on the open price"
   ]
  },
  {
   "cell_type": "code",
   "execution_count": 6,
   "id": "d91466a2-b127-4b8d-9ca0-f5f6c161216e",
   "metadata": {},
   "outputs": [
    {
     "name": "stdout",
     "output_type": "stream",
     "text": [
      "Lowest: 63.405\n",
      "Highest: 84.268\n"
     ]
    }
   ],
   "source": [
    "# open = urlJson['dataset_data']['column_names'][1] column\n",
    "# open data = urlJson['dataset_data']['data'][i][1]\n",
    "totalDays =len(urlJson['dataset_data']['data'])\n",
    "openHighest = 0.0\n",
    "openLowest = urlJson['dataset_data']['data'][0][1]\n",
    "\n",
    "for i in range(0,totalDays ):\n",
    "    openPrice = urlJson['dataset_data']['data'][i][1]\n",
    "\n",
    "    if openPrice >= openHighest:\n",
    "        openHighest = openPrice\n",
    "\n",
    "    if openPrice <= openLowest:\n",
    "        openLowest = openPrice\n",
    "\n",
    "\n",
    "print(\"Lowest:\", openLowest)\n",
    "print(\"Highest:\", openHighest)"
   ]
  },
  {
   "cell_type": "markdown",
   "id": "3e0c6466-7631-4442-bf52-c8c437e788b7",
   "metadata": {},
   "source": [
    "## Q4 largest change based on the entire day\n"
   ]
  },
  {
   "cell_type": "code",
   "execution_count": 7,
   "id": "fa9ccec2-6f51-45ea-92c3-04bcfea068b2",
   "metadata": {},
   "outputs": [
    {
     "name": "stdout",
     "output_type": "stream",
     "text": [
      "Highest change in a given day :8.051000\n"
     ]
    }
   ],
   "source": [
    "change = 0.0\n",
    "for i in range(0, totalDays ):\n",
    "    # cCount +=1\n",
    "    high = urlJson['dataset_data']['data'][i][2]\n",
    "    low = urlJson['dataset_data']['data'][i][3]\n",
    "    diff = abs(high - low)\n",
    "    if diff > change:\n",
    "        change = diff\n",
    "\n",
    "# print (cCount)\n",
    "print(\"Highest change in a given day :{:.6f}\".format(change))"
   ]
  },
  {
   "cell_type": "markdown",
   "id": "c1b8f9fa-ec07-42cc-b4c2-ecdd4d1dc981",
   "metadata": {},
   "source": [
    "## Q5 Largest change between any two days based on closing price"
   ]
  },
  {
   "cell_type": "code",
   "execution_count": 9,
   "id": "7ad66401-38eb-4eb8-aa3e-88eff5c79c74",
   "metadata": {},
   "outputs": [
    {
     "name": "stdout",
     "output_type": "stream",
     "text": [
      "23.224999999999994\n"
     ]
    }
   ],
   "source": [
    "# close =(urlJson['dataset_data']['column_names'][4])\n",
    "# Close data = urlJson['dataset_data']['data'][i][4]\n",
    "\n",
    "closeLowest = urlJson['dataset_data']['data'][0][4]\n",
    "closeHighest = 0.0\n",
    "\n",
    "for i in range(0,totalDays ):\n",
    "    closePrice = urlJson['dataset_data']['data'][i][4]\n",
    "    if closePrice >= closeHighest:\n",
    "        closeHighest = closePrice\n",
    "\n",
    "    if closePrice <= closeLowest:\n",
    "        closeLowest = closePrice\n",
    "\n",
    "largestCloseDiff = abs(closeHighest - closeLowest)\n",
    "print(largestCloseDiff)\n"
   ]
  },
  {
   "cell_type": "markdown",
   "id": "2c4870e1-bcaa-4ddf-ad90-c0b5f888dabb",
   "metadata": {},
   "source": [
    "## Q6 Average Volume in the year"
   ]
  },
  {
   "cell_type": "code",
   "execution_count": 10,
   "id": "7369d730-608c-42f6-8f38-79824a43d300",
   "metadata": {},
   "outputs": [
    {
     "name": "stdout",
     "output_type": "stream",
     "text": [
      "Average volume traded for the year:93.54615384615384K\n"
     ]
    }
   ],
   "source": [
    "#Volume =urlJson['dataset_data']['column_names'][5]\n",
    "#Volume =urlJson['dataset_data']['data'][i][5]\n",
    "\n",
    "vol= 0.0\n",
    "for i in range (0, totalDays ):\n",
    "    vol+= urlJson['dataset_data']['data'][i][5]\n",
    "\n",
    "avgVolume = vol/totalDays\n",
    "\n",
    "print (\"Average volume traded for the year:\" + str(avgVolume)+\"K\")"
   ]
  },
  {
   "cell_type": "markdown",
   "id": "934c7ae2-7326-4ab0-aea2-40a6828b3e73",
   "metadata": {},
   "source": [
    "## Q7 Median Volume traded the entire year\n"
   ]
  },
  {
   "cell_type": "code",
   "execution_count": 11,
   "id": "9bdf4639-7eaf-4174-bceb-7f315cda5497",
   "metadata": {},
   "outputs": [
    {
     "name": "stdout",
     "output_type": "stream",
     "text": [
      "0.0\n"
     ]
    }
   ],
   "source": [
    "def medianvol(listSize):\n",
    "    volumeList = []\n",
    "\n",
    "    for i in range (0,listSize):\n",
    "        volumeList.append(urlJson['dataset_data']['data'][i][5])\n",
    "    sortedVol=sorted(volumeList)\n",
    "    \n",
    "    if listSize %2 !=0 :\n",
    "\n",
    "        return sortedVol[listSize//2]\n",
    "\n",
    "    return (sortedVol[listSize//2] + sortedVol[(listSize//2)+1])/2\n",
    "\n",
    "print( medianvol(totalDays))"
   ]
  },
  {
   "cell_type": "code",
   "execution_count": null,
   "id": "da00b668-f9d4-4caf-b547-c4bd16358cfd",
   "metadata": {},
   "outputs": [],
   "source": []
  }
 ],
 "metadata": {
  "kernelspec": {
   "display_name": "Python 3",
   "language": "python",
   "name": "python3"
  },
  "language_info": {
   "codemirror_mode": {
    "name": "ipython",
    "version": 3
   },
   "file_extension": ".py",
   "mimetype": "text/x-python",
   "name": "python",
   "nbconvert_exporter": "python",
   "pygments_lexer": "ipython3",
   "version": "3.9.2"
  }
 },
 "nbformat": 4,
 "nbformat_minor": 5
}
